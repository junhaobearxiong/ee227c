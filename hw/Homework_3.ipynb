{
 "cells": [
  {
   "cell_type": "code",
   "execution_count": 1,
   "id": "e2456ead",
   "metadata": {},
   "outputs": [],
   "source": [
    "import cvxpy as cp\n",
    "import numpy as np\n",
    "import math\n",
    "import matplotlib.pyplot as plt"
   ]
  },
  {
   "cell_type": "code",
   "execution_count": 2,
   "id": "c4618b0c",
   "metadata": {},
   "outputs": [
    {
     "data": {
      "text/plain": [
       "-19.999999998389498"
      ]
     },
     "execution_count": 2,
     "metadata": {},
     "output_type": "execute_result"
    }
   ],
   "source": [
    "x_opt = cp.Variable(20)\n",
    "c = np.ones(20)\n",
    "A = np.vstack([np.eye(20), -np.eye(20)])\n",
    "b = np.ones(1)\n",
    "\n",
    "obj = cp.Minimize(c @ x_opt)\n",
    "constraints = [A @ x_opt <= b]\n",
    "prob = cp.Problem(obj, constraints)\n",
    "prob.solve()"
   ]
  },
  {
   "cell_type": "code",
   "execution_count": 3,
   "id": "832ac89b",
   "metadata": {},
   "outputs": [
    {
     "data": {
      "text/plain": [
       "array([-1., -1., -1., -1., -1., -1., -1., -1., -1., -1., -1., -1., -1.,\n",
       "       -1., -1., -1., -1., -1., -1., -1.])"
      ]
     },
     "execution_count": 3,
     "metadata": {},
     "output_type": "execute_result"
    }
   ],
   "source": [
    "x_opt.value"
   ]
  },
  {
   "cell_type": "code",
   "execution_count": 4,
   "id": "2ad31571",
   "metadata": {},
   "outputs": [],
   "source": [
    "def newton_step(x, eta):\n",
    "    d = 1 / (b - A @ x) \n",
    "    D = np.diag(d**2)\n",
    "    grad = eta * c + A.T @ d\n",
    "    hess = A.T @ D @ A\n",
    "    y = np.linalg.solve(hess, grad)\n",
    "    return x - y\n",
    "\n",
    "\n",
    "def path_following_ipm(epsilon=1e-4, eta=1):\n",
    "    m = 40\n",
    "    x_opt = -np.ones(20)\n",
    "    x = np.zeros(20)\n",
    "    T = math.ceil(math.log(m / epsilon, 1 + 1 / (20 * math.sqrt(m))))\n",
    "    x_arr = np.zeros(T + 3)\n",
    "    x_arr[0] = np.linalg.norm(x - x_opt)\n",
    "\n",
    "    for t in range(1, T + 1):\n",
    "        x = newton_step(x, eta)\n",
    "        eta *= 1 + 1 / (20 * math.sqrt(m))\n",
    "        x_arr[t] = np.linalg.norm(x - x_opt)\n",
    "    \n",
    "    x = newton_step(x, eta)\n",
    "    x_arr[T + 1] = np.linalg.norm(x - x_opt)\n",
    "    x = newton_step(x, eta)\n",
    "    x_arr[T + 2] = np.linalg.norm(x - x_opt)\n",
    "    \n",
    "    return x, x_arr    "
   ]
  },
  {
   "cell_type": "code",
   "execution_count": 5,
   "id": "015b2a13",
   "metadata": {},
   "outputs": [],
   "source": [
    "x, x_arr = path_following_ipm()"
   ]
  },
  {
   "cell_type": "code",
   "execution_count": 6,
   "id": "68430fbf",
   "metadata": {},
   "outputs": [
    {
     "data": {
      "text/plain": [
       "array([-0.99999752, -0.99999752, -0.99999752, -0.99999752, -0.99999752,\n",
       "       -0.99999752, -0.99999752, -0.99999752, -0.99999752, -0.99999752,\n",
       "       -0.99999752, -0.99999752, -0.99999752, -0.99999752, -0.99999752,\n",
       "       -0.99999752, -0.99999752, -0.99999752, -0.99999752, -0.99999752])"
      ]
     },
     "execution_count": 6,
     "metadata": {},
     "output_type": "execute_result"
    }
   ],
   "source": [
    "x"
   ]
  },
  {
   "cell_type": "code",
   "execution_count": 7,
   "id": "4f699e5b",
   "metadata": {},
   "outputs": [
    {
     "data": {
      "text/plain": [
       "[]"
      ]
     },
     "execution_count": 7,
     "metadata": {},
     "output_type": "execute_result"
    },
    {
     "data": {
      "image/png": "[encoded data removed]",
      "text/plain": [
       "<Figure size 432x288 with 1 Axes>"
      ]
     },
     "metadata": {
      "needs_background": "light"
     },
     "output_type": "display_data"
    }
   ],
   "source": [
    "plt.loglog(np.arange(x_arr.size), x_arr)\n",
    "plt.xlabel('iterations (log scale)')\n",
    "plt.ylabel('||x-x*||_2 (log scale)')\n",
    "plt.title('Path following IPM suboptimality gap (eta = 1, epsilon=1e-4)')\n",
    "plt.plot()"
   ]
  }
 ],
 "metadata": {
  "kernelspec": {
   "display_name": "Python 3 (ipykernel)",
   "language": "python",
   "name": "python3"
  },
  "language_info": {
   "codemirror_mode": {
    "name": "ipython",
    "version": 3
   },
   "file_extension": ".py",
   "mimetype": "text/x-python",
   "name": "python",
   "nbconvert_exporter": "python",
   "pygments_lexer": "ipython3",
   "version": "3.8.5"
  }
 },
 "nbformat": 4,
 "nbformat_minor": 5
}

{
 "cells": [
  {
   "cell_type": "code",
   "execution_count": 17,
   "id": "4745f689",
   "metadata": {},
   "outputs": [],
   "source": [
    "import numpy as np\n",
    "import matplotlib.pyplot as plt\n",
    "import seaborn as sns\n",
    "import cvxpy as cp"
   ]
  },
  {
   "cell_type": "code",
   "execution_count": 2,
   "id": "db682417",
   "metadata": {},
   "outputs": [],
   "source": [
    "def make_Ak(k, d=10):\n",
    "    A = np.zeros((d, d))\n",
    "    for i in range(1, d+1):\n",
    "        for j in range(1, d+1):\n",
    "            if i < j:\n",
    "                A[i-1, j-1] = np.exp(i/j) * np.cos(i*j) * np.sin(k)\n",
    "    A += A.T\n",
    "    for i in range(1, d+1):\n",
    "        A[i-1, i-1] = i/d * np.abs(np.sin(k)) + np.sum(np.abs(A[i-1, :])) \n",
    "    return A\n",
    "\n",
    "def make_bk(k, d=10):\n",
    "    b = np.zeros(d)\n",
    "    for i in range(1, d+1):\n",
    "        b[i-1] = np.exp(i/k) * np.sin(i*k)\n",
    "    return b"
   ]
  },
  {
   "cell_type": "code",
   "execution_count": 3,
   "id": "a302edc5",
   "metadata": {},
   "outputs": [],
   "source": [
    "Ak_list = [make_Ak(k) for k in range(1, 6)]\n",
    "bk_list = [make_bk(k) for k in range(1, 6)]"
   ]
  },
  {
   "cell_type": "code",
   "execution_count": 4,
   "id": "b9e96789",
   "metadata": {},
   "outputs": [],
   "source": [
    "get_fk = lambda x: [x.T @ Ak_list[i] @ x - bk_list[i].T @ x for i in range(5)]"
   ]
  },
  {
   "cell_type": "code",
   "execution_count": 5,
   "id": "02ecce1d",
   "metadata": {},
   "outputs": [
    {
     "data": {
      "text/plain": [
       "5337.066429311364"
      ]
     },
     "execution_count": 5,
     "metadata": {},
     "output_type": "execute_result"
    }
   ],
   "source": [
    "x_init = np.ones(10)\n",
    "max(get_fk(x_init))"
   ]
  },
  {
   "cell_type": "code",
   "execution_count": 20,
   "id": "eb159520",
   "metadata": {},
   "outputs": [
    {
     "name": "stdout",
     "output_type": "stream",
     "text": [
      "-0.8414083342082413\n"
     ]
    }
   ],
   "source": [
    "x = cp.Variable(10)\n",
    "loss = cp.max(cp.hstack([cp.quad_form(x, Ak_list[k]) - bk_list[k] @ x for k in range(5)]))\n",
    "prob = cp.Problem(cp.Minimize(loss))\n",
    "f_opt = prob.solve()\n",
    "print(f_opt)"
   ]
  },
  {
   "cell_type": "code",
   "execution_count": 21,
   "id": "7a368d9b",
   "metadata": {},
   "outputs": [],
   "source": [
    "def subgrad_descent(learning_rate_choice=0, max_iter=100000, tol=1e-3, C=0.001):\n",
    "    x = np.ones(10)\n",
    "    f_best_at_t = np.zeros(max_iter)\n",
    "    f_best_at_t[0] = max(get_fk(x))\n",
    "    for t in range(1, max_iter):\n",
    "        fk = get_fk(x)\n",
    "        k_active = np.argmax(fk) # k s.t. fk = f (0 indexed)\n",
    "        # g is a subgradient of f at x if it is a subgradient of fk at x where fk(x) = f(x)\n",
    "        g = 2 * Ak_list[k_active] @ x - bk_list[k_active]\n",
    "        if t % 1e3 == 0:\n",
    "            print('t = {}, g = {}, f = {}'.format(t, np.linalg.norm(g), max(fk)))\n",
    "        if np.allclose(g, 0, atol=tol):\n",
    "            # subgradient = 0 at x\n",
    "            print('terminate successfully')\n",
    "            return f_best_at_t[:t]\n",
    "        \n",
    "        if learning_rate_choice == 0:\n",
    "            # decreasing learning rate\n",
    "            gamma = C / np.sqrt(t)\n",
    "        elif learning_rate_choice == 1:\n",
    "            # polyak step size\n",
    "            gamma = (max(fk) - f_opt) / np.linalg.norm(g) \n",
    "        x -= gamma * g / np.linalg.norm(g)\n",
    "        f = max(get_fk(x))\n",
    "        if f < f_best_at_t[t-1]:\n",
    "            f_best_at_t[t] = f\n",
    "        else:\n",
    "            f_best_at_t[t] = f_best_at_t[t-1]\n",
    "    print('reached max iter {}'.format(max_iter))\n",
    "    return f_best_at_t"
   ]
  },
  {
   "cell_type": "code",
   "execution_count": 23,
   "id": "dc3ea1fb",
   "metadata": {
    "scrolled": true
   },
   "outputs": [
    {
     "name": "stdout",
     "output_type": "stream",
     "text": [
      "t = 1000, g = 155.8368742454028, f = 1.152716557347953\n",
      "t = 2000, g = 37.78147899537297, f = -0.5795346902034679\n",
      "t = 3000, g = 14.707002396281881, f = -0.6443414546385191\n",
      "t = 4000, g = 14.612530725260411, f = -0.7334122711308112\n",
      "t = 5000, g = 155.64214131369746, f = -0.465341482048641\n",
      "t = 6000, g = 155.634714396385, f = -0.5594885933255016\n",
      "t = 7000, g = 14.606608008740478, f = -0.7099076571375813\n",
      "t = 8000, g = 14.553614650989655, f = -0.7674837760705394\n",
      "t = 9000, g = 37.77606997417043, f = -0.680398254198647\n",
      "t = 10000, g = 37.78071953826623, f = -0.6381977779441115\n",
      "t = 11000, g = 14.543381061739025, f = -0.7865621625681266\n",
      "t = 12000, g = 6.274509567531107, f = -0.7893336782548701\n",
      "t = 13000, g = 14.515978700826825, f = -0.7975826769952737\n",
      "t = 14000, g = 37.77457671369416, f = -0.76164417866702\n",
      "t = 15000, g = 6.276124433433423, f = -0.7979115359460462\n",
      "t = 16000, g = 14.546620798789428, f = -0.7673788347692445\n",
      "t = 17000, g = 6.298664012699709, f = -0.7866727078135014\n",
      "t = 18000, g = 6.171287666354712, f = -0.8172843356623878\n",
      "t = 19000, g = 14.499341102731481, f = -0.8209572107276055\n",
      "t = 20000, g = 14.542421366601575, f = -0.7819024690175304\n",
      "t = 21000, g = 37.77528936309647, f = -0.7576760365434944\n",
      "t = 22000, g = 37.77068142812627, f = -0.805248058007172\n",
      "t = 23000, g = 37.76896627000326, f = -0.8175973992690977\n",
      "t = 24000, g = 6.137755370521734, f = -0.8264851948810614\n",
      "t = 25000, g = 6.148874120025583, f = -0.8264443287765375\n",
      "t = 26000, g = 14.516620597997626, f = -0.7995798405562824\n",
      "t = 27000, g = 14.51034318314876, f = -0.8160316387768083\n",
      "t = 28000, g = 14.531089794717543, f = -0.7902920462775571\n",
      "t = 29000, g = 14.527768011830538, f = -0.7885939121745082\n",
      "t = 30000, g = 14.539711875156621, f = -0.7860992555950602\n",
      "t = 31000, g = 14.53480471638833, f = -0.7851514695715688\n",
      "t = 32000, g = 14.536469469704894, f = -0.7927434224556902\n",
      "t = 33000, g = 14.524687246219479, f = -0.7985064404125154\n",
      "t = 34000, g = 14.52762893170633, f = -0.7918613711847499\n",
      "t = 35000, g = 14.510252492182657, f = -0.8142986328535398\n",
      "t = 36000, g = 14.503428906301314, f = -0.815930358576459\n",
      "t = 37000, g = 14.498998312645494, f = -0.8148415051848996\n",
      "t = 38000, g = 6.130770484836306, f = -0.8316816230398936\n",
      "t = 39000, g = 6.195127939902307, f = -0.8185166352645921\n",
      "t = 40000, g = 6.151825748809581, f = -0.8255221783808471\n",
      "t = 41000, g = 37.77150876047767, f = -0.8095460653197685\n",
      "t = 42000, g = 37.778693513167205, f = -0.7213338223196302\n",
      "t = 43000, g = 37.77621498666206, f = -0.7691259112825428\n",
      "t = 44000, g = 37.779995519107516, f = -0.7049946874236668\n",
      "t = 45000, g = 14.521313056913101, f = -0.8001411056053896\n",
      "t = 46000, g = 14.496617980035506, f = -0.8168413083689264\n",
      "t = 47000, g = 6.137114970712798, f = -0.8298107562765513\n",
      "t = 48000, g = 6.133189996320134, f = -0.8283737432644838\n",
      "t = 49000, g = 37.77571114481272, f = -0.7641163008223792\n",
      "t = 50000, g = 155.58718476318882, f = -0.7755798408035179\n",
      "t = 51000, g = 14.518907281399107, f = -0.8012522454878779\n",
      "t = 52000, g = 14.505972479577483, f = -0.8157437580260114\n",
      "t = 53000, g = 6.186395464372377, f = -0.8211517993031765\n",
      "t = 54000, g = 37.77167742304111, f = -0.7924254972357502\n",
      "t = 55000, g = 37.77726157733152, f = -0.7336684364906233\n",
      "t = 56000, g = 14.529485889469363, f = -0.7902802075598532\n",
      "t = 57000, g = 14.507109941942936, f = -0.8140928827126364\n",
      "t = 58000, g = 6.195662278326746, f = -0.8188520646232909\n",
      "t = 59000, g = 37.77572790373219, f = -0.7609331873839995\n",
      "t = 60000, g = 14.52140033515198, f = -0.7976481776207236\n",
      "t = 61000, g = 14.496988817201823, f = -0.8248895288863245\n",
      "t = 62000, g = 37.771089625389074, f = -0.7992158206550073\n",
      "t = 63000, g = 37.77405792516373, f = -0.8032269004069643\n",
      "t = 64000, g = 14.508460843209882, f = -0.8140929818973419\n",
      "t = 65000, g = 6.159971298577844, f = -0.8255905448494181\n",
      "t = 66000, g = 37.7720536169901, f = -0.816621951887882\n",
      "t = 67000, g = 14.516604053998792, f = -0.8053021184605424\n",
      "t = 68000, g = 6.1808493912300095, f = -0.8220408801375914\n",
      "t = 69000, g = 37.77669085757321, f = -0.7514507773113961\n",
      "t = 70000, g = 14.516821636043984, f = -0.802161002285128\n",
      "t = 71000, g = 6.11775312267348, f = -0.8344181199187715\n",
      "t = 72000, g = 37.77423733855625, f = -0.7941083877422802\n",
      "t = 73000, g = 14.508314046270185, f = -0.8150400330391037\n",
      "t = 74000, g = 6.155050517263377, f = -0.827058257162679\n",
      "t = 75000, g = 6.199035969243888, f = -0.8146232378802785\n",
      "t = 76000, g = 14.503328245986978, f = -0.8151681801595427\n",
      "t = 77000, g = 6.123023677392029, f = -0.8328117153067631\n",
      "t = 78000, g = 155.5839551431181, f = -0.7721025906730004\n",
      "t = 79000, g = 14.494369520105685, f = -0.8269434996185601\n",
      "t = 80000, g = 37.77279517198928, f = -0.8041195874465166\n",
      "t = 81000, g = 14.5222774646795, f = -0.8016612919013403\n",
      "t = 82000, g = 14.487134068132587, f = -0.829160724769043\n",
      "t = 83000, g = 37.77699413751107, f = -0.754568018699763\n",
      "t = 84000, g = 14.504038488723166, f = -0.8131028100584051\n",
      "t = 85000, g = 6.144581117995956, f = -0.8290864163992764\n",
      "t = 86000, g = 6.189450341222076, f = -0.8167521799656343\n",
      "t = 87000, g = 14.489760438635226, f = -0.8282694339799536\n",
      "t = 88000, g = 6.154284984530209, f = -0.8257545293147637\n",
      "t = 89000, g = 14.513763799445389, f = -0.8054755451533202\n",
      "t = 90000, g = 14.48346968454442, f = -0.8352590542776375\n",
      "t = 91000, g = 37.77167861762015, f = -0.8208318113254484\n",
      "t = 92000, g = 14.497889111566744, f = -0.8220628646503071\n",
      "t = 93000, g = 6.123019901435023, f = -0.8326620609884929\n",
      "t = 94000, g = 37.775123150147394, f = -0.7874733657505235\n",
      "t = 95000, g = 14.489568813298455, f = -0.8312874847297612\n",
      "t = 96000, g = 37.77283740044208, f = -0.8087961938564616\n",
      "t = 97000, g = 14.500399898548764, f = -0.8205691510831872\n",
      "t = 98000, g = 37.77070535829216, f = -0.8308913821256496\n",
      "t = 99000, g = 14.512705682990314, f = -0.8083722930122064\n",
      "reached max iter 100000\n"
     ]
    }
   ],
   "source": [
    "f_opt_const = subgrad_descent(C=1)"
   ]
  },
  {
   "cell_type": "code",
   "execution_count": 24,
   "id": "2df6f278",
   "metadata": {
    "scrolled": true
   },
   "outputs": [
    {
     "name": "stdout",
     "output_type": "stream",
     "text": [
      "t = 1000, g = 155.59865415792956, f = -0.8242676543551903\n",
      "t = 2000, g = 6.194025531119145, f = -0.8378268082831641\n",
      "t = 3000, g = 14.453344011156634, f = -0.8384947163828257\n",
      "t = 4000, g = 6.165788615676378, f = -0.8396213827187187\n",
      "t = 5000, g = 14.45725776079338, f = -0.8400998638727017\n",
      "t = 6000, g = 37.77398364537565, f = -0.838115758886811\n",
      "t = 7000, g = 14.460262036084409, f = -0.8401588271397411\n",
      "t = 8000, g = 37.77382404718027, f = -0.8381044789087482\n",
      "t = 9000, g = 14.462862845046931, f = -0.8395198074102708\n",
      "t = 10000, g = 155.57150033231994, f = -0.8396909779411197\n",
      "t = 11000, g = 6.140285321474895, f = -0.8407565960253952\n",
      "t = 12000, g = 37.773508005473005, f = -0.8401727630515788\n",
      "t = 13000, g = 37.77347112783188, f = -0.8402678920941948\n",
      "t = 14000, g = 37.773438397078856, f = -0.8403490458533869\n",
      "t = 15000, g = 37.77340895501023, f = -0.8404192570265052\n",
      "t = 16000, g = 37.773382460312405, f = -0.8404807154589767\n",
      "t = 17000, g = 37.77335842423501, f = -0.8405346105481009\n",
      "t = 18000, g = 6.132141216891501, f = -0.841008806051591\n",
      "t = 19000, g = 6.131370159973059, f = -0.8410296469437754\n",
      "t = 20000, g = 6.1306583600843, f = -0.8410484818671514\n",
      "t = 21000, g = 155.56846091524875, f = -0.8405865064577247\n",
      "t = 22000, g = 14.466891481605387, f = -0.8406288752765217\n",
      "t = 23000, g = 37.7732862829363, f = -0.8402510428814775\n",
      "t = 24000, g = 37.7732709112798, f = -0.8402986491420299\n",
      "t = 25000, g = 14.467014110475892, f = -0.8410555540123552\n",
      "t = 26000, g = 14.467167818089056, f = -0.8410689479345611\n",
      "t = 27000, g = 37.773216539700414, f = -0.8406705831003096\n",
      "t = 28000, g = 37.773205145115135, f = -0.8406963138827481\n",
      "t = 29000, g = 14.467488709665497, f = -0.841180769177193\n",
      "t = 30000, g = 37.77317504589488, f = -0.840911756833572\n",
      "t = 31000, g = 37.77316575855093, f = -0.8409254396634559\n",
      "t = 32000, g = 6.124966547025045, f = -0.8411825882826842\n",
      "t = 33000, g = 14.468307531407383, f = -0.8408866671899509\n",
      "t = 34000, g = 14.46836220107181, f = -0.8409444951923704\n",
      "t = 35000, g = 37.77315640779917, f = -0.8406447868929245\n",
      "t = 36000, g = 14.468338175794912, f = -0.8411625937923711\n",
      "t = 37000, g = 37.77313021908526, f = -0.8408686736978669\n",
      "t = 38000, g = 14.468445939665445, f = -0.8412343234125723\n",
      "t = 39000, g = 37.773109154801524, f = -0.8410256489722566\n",
      "t = 40000, g = 6.122716918175452, f = -0.8412274372913076\n",
      "t = 41000, g = 155.56668229945802, f = -0.8409770447043956\n",
      "t = 42000, g = 14.469009817001654, f = -0.8410320966985402\n",
      "t = 43000, g = 37.77310450764451, f = -0.8407857900966829\n",
      "t = 44000, g = 14.468976541084295, f = -0.841206857247405\n",
      "t = 45000, g = 37.77308431892695, f = -0.8409637233448614\n",
      "t = 46000, g = 14.469051822227971, f = -0.8412643589845661\n",
      "t = 47000, g = 37.773068025890744, f = -0.8410903184926585\n",
      "t = 48000, g = 6.121062343682657, f = -0.841257354846491\n",
      "t = 49000, g = 14.469474043653912, f = -0.8410556438345713\n",
      "t = 50000, g = 37.77307086184582, f = -0.8408725968398253\n",
      "t = 51000, g = 14.469408618570018, f = -0.8412344046176128\n",
      "t = 52000, g = 37.77305421360209, f = -0.8410233782257206\n",
      "t = 53000, g = 37.77305001202774, f = -0.841028863639832\n",
      "t = 54000, g = 14.46951959535537, f = -0.8412849957220808\n",
      "t = 55000, g = 37.77303682157375, f = -0.8411350429560228\n",
      "t = 56000, g = 6.119780127025998, f = -0.8412787758501501\n",
      "t = 57000, g = 14.469869833567225, f = -0.8411046850398711\n",
      "t = 58000, g = 37.773040193222876, f = -0.8409458599695372\n",
      "t = 59000, g = 14.469806874434418, f = -0.8412577930879827\n",
      "t = 60000, g = 37.773026385247874, f = -0.8410742958114872\n",
      "t = 61000, g = 14.469850293790719, f = -0.8412995369129934\n",
      "t = 62000, g = 37.77301517410248, f = -0.8411667972772852\n",
      "t = 63000, g = 6.118867547782103, f = -0.8412930552442532\n",
      "t = 64000, g = 155.56583906889213, f = -0.8411321092357991\n",
      "t = 65000, g = 14.47017111237122, f = -0.8411641061315082\n",
      "t = 66000, g = 37.773015688040054, f = -0.8410012953335938\n",
      "t = 67000, g = 14.470132593009405, f = -0.8412755611692823\n",
      "t = 68000, g = 37.773003932284986, f = -0.8411131521711745\n",
      "t = 69000, g = 14.470166232832181, f = -0.8413120457736486\n",
      "t = 70000, g = 37.77299437039641, f = -0.841194177403834\n",
      "t = 71000, g = 6.117995518867478, f = -0.8413059367953504\n",
      "t = 72000, g = 14.470430800520596, f = -0.8411674202996386\n",
      "t = 73000, g = 37.77299816704562, f = -0.84104023191942\n",
      "t = 74000, g = 14.470373324943594, f = -0.841288092936219\n",
      "t = 75000, g = 37.77298780196591, f = -0.8411406568223802\n",
      "t = 76000, g = 37.77298539384517, f = -0.8411429483460467\n",
      "t = 77000, g = 14.470432407892014, f = -0.8413215947636022\n",
      "t = 78000, g = 37.772977074951214, f = -0.8412151229723858\n",
      "t = 79000, g = 6.1172606028213785, f = -0.8413162361716835\n",
      "t = 80000, g = 14.470665227518477, f = -0.8411912841981972\n",
      "t = 81000, g = 37.77298083285664, f = -0.8410762566168819\n",
      "t = 82000, g = 14.470610570201139, f = -0.8412997215971775\n",
      "t = 83000, g = 37.77297170981559, f = -0.8411662380090633\n",
      "t = 84000, g = 14.470632625355721, f = -0.8413291263334082\n",
      "t = 85000, g = 37.77296428868245, f = -0.8412317341496721\n",
      "t = 86000, g = 6.116704749198825, f = -0.8413236695441764\n",
      "t = 87000, g = 155.56537599709557, f = -0.8412048651362476\n",
      "t = 88000, g = 14.470851919892633, f = -0.841227396240343\n",
      "t = 89000, g = 37.772966050996104, f = -0.8411057330021781\n",
      "t = 90000, g = 14.470815860148429, f = -0.8413092498617133\n",
      "t = 91000, g = 37.77295791457965, f = -0.8411872474850032\n",
      "t = 92000, g = 14.470833724647035, f = -0.8413359531354825\n",
      "t = 93000, g = 37.772951293952225, f = -0.8412467937127027\n",
      "t = 94000, g = 6.116147218576443, f = -0.8413308132611894\n",
      "t = 95000, g = 14.471023991642381, f = -0.8412252701820336\n",
      "t = 96000, g = 37.77295498893819, f = -0.8411277845945424\n",
      "t = 97000, g = 14.47097417974281, f = -0.8413163977450806\n",
      "t = 98000, g = 37.7729475763864, f = -0.8412030427828059\n",
      "t = 99000, g = 37.77294596518146, f = -0.8412041746626373\n",
      "reached max iter 100000\n"
     ]
    }
   ],
   "source": [
    "f_opt_polyak = subgrad_descent(learning_rate_choice=1)"
   ]
  },
  {
   "cell_type": "code",
   "execution_count": 25,
   "id": "e36bb373",
   "metadata": {},
   "outputs": [
    {
     "data": {
      "text/plain": [
       "Text(0, 0.5, 'suboptimality gap (log scale)')"
      ]
     },
     "execution_count": 25,
     "metadata": {},
     "output_type": "execute_result"
    },
    {
     "data": {
      "image/png": "[encoded data removed]",
      "text/plain": [
       "<Figure size 432x288 with 1 Axes>"
      ]
     },
     "metadata": {
      "needs_background": "light"
     },
     "output_type": "display_data"
    }
   ],
   "source": [
    "num_iter = np.arange(1, f_opt_const.size+1)\n",
    "plt.loglog(num_iter, f_opt_const - f_opt, label='c/sqrt(t) step size')\n",
    "plt.loglog(num_iter, f_opt_polyak - f_opt, label='polyak step size')\n",
    "plt.legend()\n",
    "plt.xlabel('iterations (log scale)')\n",
    "plt.ylabel('suboptimality gap (log scale)')"
   ]
  },
  {
   "cell_type": "code",
   "execution_count": null,
   "id": "d9bdbb83",
   "metadata": {},
   "outputs": [],
   "source": []
  }
 ],
 "metadata": {
  "kernelspec": {
   "display_name": "Python 3 (ipykernel)",
   "language": "python",
   "name": "python3"
  },
  "language_info": {
   "codemirror_mode": {
    "name": "ipython",
    "version": 3
   },
   "file_extension": ".py",
   "mimetype": "text/x-python",
   "name": "python",
   "nbconvert_exporter": "python",
   "pygments_lexer": "ipython3",
   "version": "3.9.0"
  }
 },
 "nbformat": 4,
 "nbformat_minor": 5
}

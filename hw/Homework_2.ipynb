{
 "cells": [
  {
   "cell_type": "code",
   "execution_count": 1,
   "id": "d2857271",
   "metadata": {},
   "outputs": [],
   "source": [
    "import numpy as np\n",
    "import matplotlib.pyplot as plt\n",
    "import seaborn as sns\n",
    "import cvxpy as cp"
   ]
  },
  {
   "cell_type": "markdown",
   "id": "041a04d2",
   "metadata": {},
   "source": [
    "### Problem 1"
   ]
  },
  {
   "cell_type": "code",
   "execution_count": 2,
   "id": "1885966d",
   "metadata": {},
   "outputs": [],
   "source": [
    "def make_Ak(k, d=10):\n",
    "    A = np.zeros((d, d))\n",
    "    for i in range(1, d+1):\n",
    "        for j in range(1, d+1):\n",
    "            if i < j:\n",
    "                A[i-1, j-1] = np.exp(i/j) * np.cos(i*j) * np.sin(k)\n",
    "    A += A.T\n",
    "    for i in range(1, d+1):\n",
    "        A[i-1, i-1] = i/d * np.abs(np.sin(k)) + np.sum(np.abs(A[i-1, :])) \n",
    "    return A\n",
    "\n",
    "def make_bk(k, d=10):\n",
    "    b = np.zeros(d)\n",
    "    for i in range(1, d+1):\n",
    "        b[i-1] = np.exp(i/k) * np.sin(i*k)\n",
    "    return b"
   ]
  },
  {
   "cell_type": "code",
   "execution_count": 3,
   "id": "30f35fec",
   "metadata": {},
   "outputs": [],
   "source": [
    "Ak_list = [make_Ak(k) for k in range(1, 6)]\n",
    "bk_list = [make_bk(k) for k in range(1, 6)]"
   ]
  },
  {
   "cell_type": "code",
   "execution_count": 10,
   "id": "cabe447b",
   "metadata": {},
   "outputs": [],
   "source": [
    "get_fk = lambda x: [x.T @ Ak_list[i] @ x - bk_list[i].T @ x for i in range(5)]\n",
    "maxquad = lambda x: max(get_fk(x))"
   ]
  },
  {
   "cell_type": "code",
   "execution_count": 9,
   "id": "47b9410a",
   "metadata": {},
   "outputs": [
    {
     "data": {
      "text/plain": [
       "5337.066429311364"
      ]
     },
     "execution_count": 9,
     "metadata": {},
     "output_type": "execute_result"
    }
   ],
   "source": [
    "x_init = np.ones(10)\n",
    "maxquad(x_init)"
   ]
  },
  {
   "cell_type": "code",
   "execution_count": 11,
   "id": "22bcd910",
   "metadata": {},
   "outputs": [],
   "source": [
    "# the subgradient of the maxquad function at x\n",
    "def maxquad_subgrad(x):\n",
    "    fk = get_fk(x)\n",
    "    k_active = np.argmax(fk) # k s.t. fk = f (0 indexed)\n",
    "    # g is a subgradient of f at x if it is a subgradient of fk at x where fk(x) = f(x)\n",
    "    g = 2 * Ak_list[k_active] @ x - bk_list[k_active]\n",
    "    return g"
   ]
  },
  {
   "cell_type": "code",
   "execution_count": 35,
   "id": "addc18ec",
   "metadata": {},
   "outputs": [
    {
     "name": "stdout",
     "output_type": "stream",
     "text": [
      "-0.8414083342082411\n"
     ]
    }
   ],
   "source": [
    "x = cp.Variable(10)\n",
    "loss = cp.max(cp.hstack([cp.quad_form(x, Ak_list[k]) - bk_list[k] @ x for k in range(5)]))\n",
    "prob = cp.Problem(cp.Minimize(loss))\n",
    "f_opt = prob.solve()\n",
    "print(f_opt)"
   ]
  },
  {
   "cell_type": "code",
   "execution_count": 38,
   "id": "4c394d1f",
   "metadata": {},
   "outputs": [],
   "source": [
    "# compute f_i_minus\n",
    "def get_f_minus(x_list):\n",
    "    x = cp.Variable(10)\n",
    "    fi = cp.max(cp.hstack([maxquad(xj) + maxquad_subgrad(xj) @ (x-xj) for xj in x_list]))\n",
    "    prob = cp.Problem(cp.Minimize(fi), [cp.norm(x) <= 1])\n",
    "    f_opt = prob.solve()\n",
    "    return f_opt"
   ]
  },
  {
   "cell_type": "code",
   "execution_count": 39,
   "id": "890011ce",
   "metadata": {},
   "outputs": [],
   "source": [
    "def project_on_Q(x_list, level):\n",
    "    x = cp.Variable(10)\n",
    "    fi = cp.max(cp.hstack([maxquad(xj) + maxquad_subgrad(xj) @ (x-xj) for xj in x_list]))\n",
    "    constraints = [cp.norm(x) <= 1, fi <= level] # G is chosen to be the unit ball \n",
    "    prob = cp.Problem(cp.Minimize(cp.norm(x - x_list[-1])), constraints)\n",
    "    prob.solve()\n",
    "    return x.value"
   ]
  },
  {
   "cell_type": "code",
   "execution_count": 40,
   "id": "4519d12b",
   "metadata": {},
   "outputs": [
    {
     "data": {
      "text/plain": [
       "-12889.51247511077"
      ]
     },
     "execution_count": 40,
     "metadata": {},
     "output_type": "execute_result"
    }
   ],
   "source": [
    "get_f_minus([x_init])"
   ]
  },
  {
   "cell_type": "code",
   "execution_count": 64,
   "id": "ebafa58b",
   "metadata": {},
   "outputs": [],
   "source": [
    "def level_method(lamb=0.5, max_iter=100000, epsilon=1e-6):\n",
    "    x_init = np.ones(10)\n",
    "    f_plus_list = [] # stores min_j<=i{f(xj)}\n",
    "    f_plus_list.append(maxquad(x_init))\n",
    "    x_list = []\n",
    "    x_list.append(x_init)\n",
    "    # at iterate i, compute x_i+1\n",
    "    for i in range(max_iter):\n",
    "        # the pointwise max of affine forms\n",
    "        f_minus = get_f_minus(x_list)\n",
    "        level = (1-lamb) * f_minus + lamb * f_plus_list[i]\n",
    "        x = project_on_Q(x_list, level)\n",
    "        x_list.append(x)\n",
    "        f_plus_list.append(min(maxquad(x), f_plus_list[-1]))\n",
    "        if i % 1 == 0:\n",
    "            print('i: {}, fi_plus: {}'.format(i, f_plus_list[-1]))\n",
    "        if abs(f_plus_list[-1] - f_minus) < epsilon:\n",
    "            print('converges at iterate {}'.format(i))\n",
    "            break\n",
    "    return f_plus_list"
   ]
  },
  {
   "cell_type": "code",
   "execution_count": 65,
   "id": "be8228a7",
   "metadata": {
    "scrolled": true
   },
   "outputs": [
    {
     "name": "stdout",
     "output_type": "stream",
     "text": [
      "i: 0, fi_plus: 47.60379098532603\n",
      "i: 1, fi_plus: 31.25796027197014\n",
      "i: 2, fi_plus: 8.592124437771627\n",
      "i: 3, fi_plus: 2.9165143382593963\n",
      "i: 4, fi_plus: 2.9165143382593963\n",
      "i: 5, fi_plus: 2.9165143382593963\n",
      "i: 6, fi_plus: 1.0339636416595699\n",
      "i: 7, fi_plus: 1.0339636416595699\n",
      "i: 8, fi_plus: -0.614546639565047\n",
      "i: 9, fi_plus: -0.614546639565047\n",
      "i: 10, fi_plus: -0.614546639565047\n",
      "i: 11, fi_plus: -0.703815564316979\n",
      "i: 12, fi_plus: -0.703815564316979\n",
      "i: 13, fi_plus: -0.703815564316979\n",
      "i: 14, fi_plus: -0.7302990996486447\n",
      "i: 15, fi_plus: -0.7409958130759984\n",
      "i: 16, fi_plus: -0.8074717985130044\n",
      "i: 17, fi_plus: -0.8237860730819486\n",
      "i: 18, fi_plus: -0.8237860730819486\n",
      "i: 19, fi_plus: -0.8237860730819486\n",
      "i: 20, fi_plus: -0.8237860730819486\n",
      "i: 21, fi_plus: -0.8237860730819486\n",
      "i: 22, fi_plus: -0.8282771826262033\n",
      "i: 23, fi_plus: -0.8313952428917439\n",
      "i: 24, fi_plus: -0.8313952428917439\n",
      "i: 25, fi_plus: -0.8367394804006906\n",
      "i: 26, fi_plus: -0.8390754665460889\n",
      "i: 27, fi_plus: -0.8390754665460889\n",
      "i: 28, fi_plus: -0.8390754665460889\n",
      "i: 29, fi_plus: -0.8390754665460889\n",
      "i: 30, fi_plus: -0.839407875959959\n",
      "i: 31, fi_plus: -0.839407875959959\n",
      "i: 32, fi_plus: -0.8396728979453579\n",
      "i: 33, fi_plus: -0.8411467831134504\n",
      "i: 34, fi_plus: -0.8411467831134504\n",
      "i: 35, fi_plus: -0.8411467831134504\n",
      "i: 36, fi_plus: -0.8411467831134504\n",
      "i: 37, fi_plus: -0.84129205120583\n",
      "i: 38, fi_plus: -0.84129205120583\n",
      "i: 39, fi_plus: -0.84129205120583\n",
      "i: 40, fi_plus: -0.84129205120583\n",
      "i: 41, fi_plus: -0.84129205120583\n",
      "i: 42, fi_plus: -0.84129205120583\n",
      "i: 43, fi_plus: -0.84129205120583\n",
      "i: 44, fi_plus: -0.84129205120583\n",
      "i: 45, fi_plus: -0.84129205120583\n",
      "i: 46, fi_plus: -0.8413548106476038\n",
      "i: 47, fi_plus: -0.8413694055610315\n",
      "i: 48, fi_plus: -0.8413856702552504\n",
      "i: 49, fi_plus: -0.8413856702552504\n",
      "i: 50, fi_plus: -0.8413856702552504\n",
      "i: 51, fi_plus: -0.8413856702552504\n",
      "i: 52, fi_plus: -0.8413856702552504\n",
      "i: 53, fi_plus: -0.8413856702552504\n",
      "i: 54, fi_plus: -0.8413856702552504\n",
      "i: 55, fi_plus: -0.8413904580332076\n",
      "i: 56, fi_plus: -0.84140007583297\n",
      "i: 57, fi_plus: -0.84140007583297\n",
      "i: 58, fi_plus: -0.84140007583297\n",
      "i: 59, fi_plus: -0.8414050309686065\n",
      "i: 60, fi_plus: -0.8414050309686065\n",
      "i: 61, fi_plus: -0.8414064690337744\n",
      "i: 62, fi_plus: -0.8414064690337744\n",
      "i: 63, fi_plus: -0.8414064690337744\n",
      "i: 64, fi_plus: -0.8414064690337744\n",
      "i: 65, fi_plus: -0.8414064690337744\n",
      "i: 66, fi_plus: -0.8414064690337744\n",
      "i: 67, fi_plus: -0.8414074114593384\n",
      "i: 68, fi_plus: -0.8414074114593384\n",
      "i: 69, fi_plus: -0.8414075787493991\n",
      "i: 70, fi_plus: -0.8414079853712059\n",
      "i: 71, fi_plus: -0.8414079853712059\n"
     ]
    },
    {
     "name": "stderr",
     "output_type": "stream",
     "text": [
      "/opt/anaconda3/envs/env-structure/lib/python3.9/site-packages/cvxpy/problems/problem.py:1296: UserWarning: Solution may be inaccurate. Try another solver, adjusting the solver settings, or solve with verbose=True for more information.\n",
      "  warnings.warn(\n"
     ]
    },
    {
     "name": "stdout",
     "output_type": "stream",
     "text": [
      "i: 72, fi_plus: -0.8414079853712059\n",
      "i: 73, fi_plus: -0.8414079853712059\n",
      "i: 74, fi_plus: -0.8414079853712059\n",
      "converges at iterate 74\n"
     ]
    }
   ],
   "source": [
    "f_plus_list = level_method(lamb=0.5)"
   ]
  },
  {
   "cell_type": "code",
   "execution_count": 66,
   "id": "f0c6d467",
   "metadata": {},
   "outputs": [
    {
     "data": {
      "text/plain": [
       "Text(0, 0.5, 'suboptimality gap (log)')"
      ]
     },
     "execution_count": 66,
     "metadata": {},
     "output_type": "execute_result"
    },
    {
     "data": {
      "image/png": "[encoded data removed]",
      "text/plain": [
       "<Figure size 432x288 with 1 Axes>"
      ]
     },
     "metadata": {
      "needs_background": "light"
     },
     "output_type": "display_data"
    }
   ],
   "source": [
    "plt.loglog(np.arange(len(f_plus_list)), np.array(f_plus_list) - f_opt)\n",
    "plt.xlabel('num iterations (log)')\n",
    "plt.ylabel('suboptimality gap (log)')"
   ]
  },
  {
   "cell_type": "markdown",
   "id": "fb06cbcc",
   "metadata": {},
   "source": [
    "### Problem 2"
   ]
  },
  {
   "cell_type": "code",
   "execution_count": 175,
   "id": "de8a0574",
   "metadata": {},
   "outputs": [],
   "source": [
    "def gradient_descent(f, grad, step_size, max_iter=100000, epsilon=1e-3, num_iter_log=1e3):\n",
    "    f_best = np.full(max_iter, np.nan)\n",
    "    f_best[0] = f(x_init)\n",
    "    x_prev = x_init\n",
    "    for i in range(1, max_iter):\n",
    "        x = x_prev - step_size * grad(x_prev)\n",
    "        x_prev = x\n",
    "        if f(x) < f_best[i-1]:\n",
    "            f_best[i] = f(x)\n",
    "        else:\n",
    "            f_best[i] = f_best[i-1]\n",
    "        if np.allclose(grad(x), 0, atol=epsilon):\n",
    "            print('converges at iteration {}'.format(i))\n",
    "            break\n",
    "        if i % num_iter_log == 0:\n",
    "            print('iteration {}, f {}'.format(i, f(x)))\n",
    "    return f_best"
   ]
  },
  {
   "cell_type": "code",
   "execution_count": 176,
   "id": "49ff243d",
   "metadata": {},
   "outputs": [],
   "source": [
    "def agd(f, grad, step_size=1e-2, C=1/2, max_iter=100000, epsilon=1e-3, num_iter_log=1e2):\n",
    "    f_best = np.full(max_iter, np.nan)\n",
    "    gamma_list = [0 if t <= 3 else 2 / t for t in range(max_iter)]\n",
    "    lamb = 1\n",
    "    f_best[0] = f(x_init)\n",
    "    x_prev = x_init\n",
    "    z_prev = x_prev\n",
    "    for i in range(1, max_iter):\n",
    "        gamma = gamma_list[i]\n",
    "        lamb *= 1 - gamma\n",
    "        y_prev = (1-gamma) * x_prev + gamma * z_prev\n",
    "        z = z_prev - gamma/(lamb*2*C) * grad(y_prev)\n",
    "        x = y_prev - step_size * grad(y_prev)\n",
    "        if f(x) < f_best[i-1]:\n",
    "            f_best[i] = f(x)\n",
    "        else:\n",
    "            f_best[i] = f_best[i-1]\n",
    "        if np.allclose(grad(x), 0, atol=epsilon):\n",
    "            print('converges at iteration {}'.format(i))\n",
    "            break\n",
    "        if i % num_iter_log == 0:\n",
    "            print('iteration {}, f {}'.format(i, f(x)))\n",
    "        x_prev = x\n",
    "        z_prev = z\n",
    "    return f_best"
   ]
  },
  {
   "cell_type": "markdown",
   "id": "ced800d1",
   "metadata": {},
   "source": [
    "#### Part (a)"
   ]
  },
  {
   "cell_type": "code",
   "execution_count": 168,
   "id": "71eee459",
   "metadata": {},
   "outputs": [],
   "source": [
    "np.random.seed(1)\n",
    "x_init = np.ones(20)\n",
    "A = np.random.normal(size=(20, 20))\n",
    "f = lambda x: np.linalg.norm(A @ x)**2\n",
    "grad = lambda x: 2 * A.T @ A @ x"
   ]
  },
  {
   "cell_type": "code",
   "execution_count": 169,
   "id": "29261fa4",
   "metadata": {},
   "outputs": [
    {
     "data": {
      "text/plain": [
       "217.4978923321783"
      ]
     },
     "execution_count": 169,
     "metadata": {},
     "output_type": "execute_result"
    }
   ],
   "source": [
    "f(x_init)"
   ]
  },
  {
   "cell_type": "code",
   "execution_count": 170,
   "id": "fcc83bb5",
   "metadata": {
    "scrolled": true
   },
   "outputs": [
    {
     "name": "stdout",
     "output_type": "stream",
     "text": [
      "iteration 1000, f 0.006788650333388579\n",
      "iteration 2000, f 0.005882282740535028\n",
      "iteration 3000, f 0.005117465114918679\n",
      "iteration 4000, f 0.004452621889609332\n",
      "iteration 5000, f 0.003874166523436946\n",
      "iteration 6000, f 0.003370860630741733\n",
      "iteration 7000, f 0.0029329408941594698\n",
      "iteration 8000, f 0.002551912769985145\n",
      "iteration 9000, f 0.0022203852790212753\n",
      "iteration 10000, f 0.0019319276290636984\n",
      "iteration 11000, f 0.0016809444735577136\n",
      "iteration 12000, f 0.001462567376063462\n",
      "iteration 13000, f 0.0012725603749407406\n",
      "iteration 14000, f 0.001107237816440289\n",
      "iteration 15000, f 0.0009633928623720962\n",
      "iteration 16000, f 0.0008382352855806297\n",
      "iteration 17000, f 0.0007293373466172236\n",
      "iteration 18000, f 0.0006345867017542629\n",
      "iteration 19000, f 0.0005521454288761386\n",
      "iteration 20000, f 0.0004804143764532771\n",
      "iteration 21000, f 0.0004180021440597023\n",
      "iteration 22000, f 0.00036369809273495435\n",
      "converges at iteration 22363\n"
     ]
    }
   ],
   "source": [
    "f_best_gd = gradient_descent(f, grad, 1e-2)\n",
    "f_best_gd = f_best_gd[~np.isnan(f_best_gd)]"
   ]
  },
  {
   "cell_type": "code",
   "execution_count": 171,
   "id": "0830202c",
   "metadata": {
    "scrolled": true
   },
   "outputs": [
    {
     "name": "stdout",
     "output_type": "stream",
     "text": [
      "iteration 100, f 0.008730311372226695\n",
      "iteration 200, f 0.006191283110895155\n",
      "iteration 300, f 0.004466819923472647\n",
      "iteration 400, f 0.002791803026720182\n",
      "iteration 500, f 0.0014261763620947768\n",
      "iteration 600, f 0.0005320941452097991\n",
      "converges at iteration 636\n"
     ]
    }
   ],
   "source": [
    "f_best_agd = agd(f, grad, 1e-2, 1e2)"
   ]
  },
  {
   "cell_type": "code",
   "execution_count": 172,
   "id": "03e0ad75",
   "metadata": {},
   "outputs": [
    {
     "data": {
      "text/plain": [
       "<matplotlib.legend.Legend at 0x7fc31447b790>"
      ]
     },
     "execution_count": 172,
     "metadata": {},
     "output_type": "execute_result"
    },
    {
     "data": {
      "image/png": "[encoded data removed]",
      "text/plain": [
       "<Figure size 432x288 with 1 Axes>"
      ]
     },
     "metadata": {
      "needs_background": "light"
     },
     "output_type": "display_data"
    }
   ],
   "source": [
    "plt.loglog(np.arange(f_best_gd.size), f_best_gd, label='GD, step size=1e-2')\n",
    "plt.loglog(np.arange(f_best_agd.size), f_best_agd, label='AGD, step size=1e-2, C=1e2')\n",
    "plt.xlabel('num iterations (log)')\n",
    "plt.ylabel('suboptimality gap (log)')\n",
    "plt.legend()"
   ]
  },
  {
   "cell_type": "markdown",
   "id": "c6f10888",
   "metadata": {},
   "source": [
    "#### Part (b)"
   ]
  },
  {
   "cell_type": "code",
   "execution_count": 173,
   "id": "86c13041",
   "metadata": {},
   "outputs": [],
   "source": [
    "dim = 20\n",
    "A = np.zeros((dim, dim))\n",
    "A[np.diag_indices_from(A)] = 2\n",
    "for i in range(dim):\n",
    "    if i < dim-1:\n",
    "        A[i, i+1] = -1\n",
    "    if i > 0:\n",
    "        A[i, i-1] = -1\n",
    "x_init = np.ones(20)\n",
    "f = lambda x: x.T @ A @ x\n",
    "grad = lambda x: 2 * A @ x"
   ]
  },
  {
   "cell_type": "code",
   "execution_count": 182,
   "id": "55157e8f",
   "metadata": {},
   "outputs": [
    {
     "name": "stdout",
     "output_type": "stream",
     "text": [
      "iteration 100, f 0.15481953162155973\n",
      "iteration 200, f 0.06318095693102285\n",
      "iteration 300, f 0.025802374489200412\n",
      "iteration 400, f 0.010537398043347778\n",
      "iteration 500, f 0.004303354236491689\n",
      "iteration 600, f 0.0017574412211207701\n",
      "iteration 700, f 0.0007177191269785969\n",
      "iteration 800, f 0.0002931083777029042\n",
      "iteration 900, f 0.00011970214788798605\n",
      "converges at iteration 902\n"
     ]
    }
   ],
   "source": [
    "f_best_gd = gradient_descent(f, grad, 1e-1, num_iter_log=1e2)\n",
    "f_best_gd = f_best_gd[~np.isnan(f_best_gd)]"
   ]
  },
  {
   "cell_type": "code",
   "execution_count": 190,
   "id": "4a0867d5",
   "metadata": {
    "scrolled": true
   },
   "outputs": [
    {
     "name": "stdout",
     "output_type": "stream",
     "text": [
      "iteration 10, f 0.6821172779588512\n",
      "iteration 20, f 0.37611311845821016\n",
      "iteration 30, f 0.2577490762205275\n",
      "iteration 40, f 0.18807830933598543\n",
      "iteration 50, f 0.12692532231702247\n",
      "iteration 60, f 0.07483075172793287\n",
      "iteration 70, f 0.03768145070032799\n",
      "iteration 80, f 0.014739127879091072\n",
      "iteration 90, f 0.0034057414622151853\n",
      "iteration 100, f 7.471380628819837e-05\n",
      "converges at iteration 102\n"
     ]
    }
   ],
   "source": [
    "f_best_agd = agd(f, grad, 1e-1, 1e1, num_iter_log=1e1)"
   ]
  },
  {
   "cell_type": "code",
   "execution_count": 192,
   "id": "1cc90f39",
   "metadata": {},
   "outputs": [
    {
     "data": {
      "text/plain": [
       "<matplotlib.legend.Legend at 0x7fc317966df0>"
      ]
     },
     "execution_count": 192,
     "metadata": {},
     "output_type": "execute_result"
    },
    {
     "data": {
      "image/png": "[encoded data removed]",
      "text/plain": [
       "<Figure size 432x288 with 1 Axes>"
      ]
     },
     "metadata": {
      "needs_background": "light"
     },
     "output_type": "display_data"
    }
   ],
   "source": [
    "plt.loglog(np.arange(f_best_gd.size), f_best_gd, label='GD, step size=1e-1')\n",
    "plt.loglog(np.arange(f_best_agd.size), f_best_agd, label='AGD, step size=1e-1, C=1e1')\n",
    "plt.xlabel('num iterations (log)')\n",
    "plt.ylabel('suboptimality gap (log)')\n",
    "plt.legend()"
   ]
  },
  {
   "cell_type": "code",
   "execution_count": null,
   "id": "ab1006df",
   "metadata": {},
   "outputs": [],
   "source": []
  }
 ],
 "metadata": {
  "kernelspec": {
   "display_name": "Python 3 (ipykernel)",
   "language": "python",
   "name": "python3"
  },
  "language_info": {
   "codemirror_mode": {
    "name": "ipython",
    "version": 3
   },
   "file_extension": ".py",
   "mimetype": "text/x-python",
   "name": "python",
   "nbconvert_exporter": "python",
   "pygments_lexer": "ipython3",
   "version": "3.9.0"
  }
 },
 "nbformat": 4,
 "nbformat_minor": 5
}
